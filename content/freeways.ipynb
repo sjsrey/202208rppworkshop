{
 "cells": [
  {
   "cell_type": "markdown",
   "id": "e7de56e9-10eb-4d90-b246-1aff3eed0dda",
   "metadata": {},
   "source": [
    "# Exploring Disparities in Exposure to Freeways\n",
    "\n",
    "\n",
    "In this notebook, we explore the following questions:\n",
    "\n",
    "1. What percentage of the San Diego County population resided within 1,000 of the state highway network in 2010?\n",
    "2. Are there disparities across racial and ethnic groups in these percentages?\n",
    "\n",
    "(Please note that we are using the Census definitions of race and ethnicity. More details on these definitions are available [here](https://www.census.gov/newsroom/blogs/random-samplings/2021/08/measuring-racial-ethnic-diversity-2020-census.html)).\n",
    "\n",
    "We will be carrying out a disparity analysis using different gecomputational techniques:\n",
    "\n",
    "- choropleth mapping\n",
    "- interactive visualization\n",
    "- clipping\n",
    "- buffering\n",
    "- areal interpolation"
   ]
  },
  {
   "cell_type": "code",
   "execution_count": null,
   "id": "10622243-388b-4c5f-9cee-e039afb09d09",
   "metadata": {},
   "outputs": [],
   "source": [
    "from IPython.display import IFrame\n",
    "IFrame('https://www.latimes.com/projects/la-me-freeway-how-close-map/', width=700, height=350)"
   ]
  },
  {
   "cell_type": "markdown",
   "id": "8c94ebbb-0552-41b3-bf69-16f002b18104",
   "metadata": {},
   "source": [
    "## Background\n",
    "\n",
    "- [LA Times Interactive Map](https://www.latimes.com/projects/la-me-freeway-how-close-map/)\n",
    "- [LA Times 2016-11-07](https://www.latimes.com/local/lanow/la-me-ln-freeway-building-pollution-20161107-story.html)\n",
    "- [LA Times Freeway Pollution Project](https://www.latimes.com/projects/la-me-freeway-pollution/)\n",
    "\n",
    "\n",
    "\n",
    "\n"
   ]
  },
  {
   "cell_type": "code",
   "execution_count": null,
   "id": "3d29d6f3-760f-4fee-aabc-176bedac6adc",
   "metadata": {},
   "outputs": [],
   "source": [
    "import base\n",
    "import geopandas\n",
    "import warnings\n",
    "warnings.filterwarnings('ignore')"
   ]
  },
  {
   "cell_type": "markdown",
   "id": "e9fd0dbe-08a5-4a14-8fc6-b3ff6093bf58",
   "metadata": {},
   "source": [
    "## Mapping San Diego"
   ]
  },
  {
   "cell_type": "markdown",
   "id": "dd356af8-8181-4c4d-a4ce-904f137927d7",
   "metadata": {},
   "source": [
    "We will be using data for San Diego county from the 2010 US Census provided through the package [GeoSNAP](https://spatialucr.github.io/geosnap-guide/content/home.html).\n",
    "\n",
    "We first read in a database that attributes from the census and the geometries for the [Census tracts](https://www2.census.gov/geo/pdfs/education/CensusTracts.pdf)."
   ]
  },
  {
   "cell_type": "code",
   "execution_count": null,
   "id": "aa92448b-05dd-49ee-befc-5e0fef4706ef",
   "metadata": {},
   "outputs": [],
   "source": [
    "sd = base.gdf"
   ]
  },
  {
   "cell_type": "markdown",
   "id": "15dc4370-a765-4130-a415-4daa1308e765",
   "metadata": {},
   "source": [
    "This is a [GeoDataFrame]( ) that has a large number of attributes we can explore:"
   ]
  },
  {
   "cell_type": "code",
   "execution_count": null,
   "id": "d3d7f0c1-15de-47f4-800a-56a862b8a7b8",
   "metadata": {},
   "outputs": [],
   "source": [
    "sd.shape"
   ]
  },
  {
   "cell_type": "markdown",
   "id": "7ff92a77-be59-41e4-9b8a-9aa12bc43dc4",
   "metadata": {},
   "source": [
    "The first number tells us that there are 627 census tracts, and for each tract we have data on 195 attributes.\n",
    "\n",
    "We can peak at the first five records:"
   ]
  },
  {
   "cell_type": "code",
   "execution_count": null,
   "id": "4725c7b5-f0e3-4136-a01a-0159b208e127",
   "metadata": {},
   "outputs": [],
   "source": [
    "sd.head()"
   ]
  },
  {
   "cell_type": "markdown",
   "id": "51856a37-f925-44ea-a336-38c15d9799a9",
   "metadata": {},
   "source": [
    "We can examine the spatial arrangement of the census tracts:\n"
   ]
  },
  {
   "cell_type": "code",
   "execution_count": null,
   "id": "2235059d-26e8-427d-a07e-491c50644aa8",
   "metadata": {
    "tags": []
   },
   "outputs": [],
   "source": [
    "sd.explore(tooltip=False)"
   ]
  },
  {
   "cell_type": "markdown",
   "id": "78212239-2a15-427b-ac5d-9b6193fffaa0",
   "metadata": {
    "tags": []
   },
   "source": [
    "The map is interactive and allows for:\n",
    "\n",
    "- panning (click and drag)\n",
    "- zooming in (double click, or scroll-forward)\n",
    "- zoming out (shift-double click or scroll-backwards)\n",
    "- hover (tooltip will popup - turned off for now)"
   ]
  },
  {
   "cell_type": "markdown",
   "id": "07bbeb4c-a036-4646-b31d-4ecebc6dcd93",
   "metadata": {},
   "source": [
    "So let's explore one particular attribute by mapping its spatial distribution using a choropleth map. We will pick the median home value (in thousands of dollars) for each tract and use a decile classification:"
   ]
  },
  {
   "cell_type": "code",
   "execution_count": null,
   "id": "38051fb5-0f3b-4d35-9c7d-5c61ccf46dab",
   "metadata": {
    "tags": []
   },
   "outputs": [],
   "source": [
    "sd.explore(column='median_home_value', scheme='quantiles', k=10, legend=True,\n",
    "           tooltip=['median_home_value'],\n",
    "          legend_kwds=dict(colorbar=False))"
   ]
  },
  {
   "cell_type": "markdown",
   "id": "88442d37-e0d9-4329-86ed-b116152790ff",
   "metadata": {},
   "source": [
    "We can modify the map in a number of ways:\n",
    "\n",
    "- change the number of classes (k=5)\n",
    "- change the cmap (colormap, cmap='Greens')"
   ]
  },
  {
   "cell_type": "code",
   "execution_count": null,
   "id": "2777cd08-adcf-4168-8808-bf691f023407",
   "metadata": {},
   "outputs": [],
   "source": [
    "sd.explore(column='median_home_value', scheme='quantiles', k=5, legend=True,\n",
    "           cmap='Greens',tooltip=['median_home_value'],\n",
    "          legend_kwds=dict(colorbar=False))"
   ]
  },
  {
   "cell_type": "markdown",
   "id": "5d163669-9b7d-4ec6-a0b4-7ddf347e1274",
   "metadata": {},
   "source": [
    "## Exploring San Diego's Spatial Sociodemographic Structure\n",
    "\n",
    "For our disparities research, we want to explore how different population groups are spatially distributed relative to the freeway network. So we can first look at the spatial distribution of three groups:\n",
    "\n",
    "- nonhispanic white\n",
    "- hispanic\n",
    "- nonhispanic black\n",
    "\n",
    "These are from the census definitions."
   ]
  },
  {
   "cell_type": "code",
   "execution_count": null,
   "id": "b30ff4e1-3513-4d6e-8e52-a3db0edc4ac0",
   "metadata": {},
   "outputs": [],
   "source": [
    "vars = ['n_total_pop', 'n_nonhisp_white_persons', 'n_hispanic_persons', 'n_nonhisp_black_persons']"
   ]
  },
  {
   "cell_type": "code",
   "execution_count": null,
   "id": "cf118bb0-a96e-468d-89e2-00778450d12c",
   "metadata": {},
   "outputs": [],
   "source": [
    "county_totals = sd[vars].sum() # totals in the county\n",
    "county_totals"
   ]
  },
  {
   "cell_type": "markdown",
   "id": "f11d90de-6709-4077-9c16-519cbb32d446",
   "metadata": {},
   "source": [
    "Composition for the county:"
   ]
  },
  {
   "cell_type": "code",
   "execution_count": null,
   "id": "07e50b50-85c2-41ab-bf37-7a4f02392880",
   "metadata": {},
   "outputs": [],
   "source": [
    "county_totals/county_totals[0]"
   ]
  },
  {
   "cell_type": "markdown",
   "id": "2a832079-3a49-4893-aa64-bd510e08862d",
   "metadata": {},
   "source": [
    "Overall then, the \"white\" population was 48.5 percent of the total population in 2010, people indicating hispanic represent 32 percent of the population and individuals indicating black for race represet 4.8 percent of the 2010 population. (There are other groups that we do not include in what follows so these three do not represent the entire population)."
   ]
  },
  {
   "cell_type": "markdown",
   "id": "967c5e05-9a0b-4dd2-9cae-f727444cafde",
   "metadata": {},
   "source": [
    "For each tract, we want to the the composition of the tract's population, expressed as the percentage of the tract's population that was in each of these three groups:"
   ]
  },
  {
   "cell_type": "code",
   "execution_count": null,
   "id": "a27f3402-460d-4489-8421-e01bcd3d5a7e",
   "metadata": {},
   "outputs": [],
   "source": [
    "base.choro3(sd, 'p_nonhisp_white_persons', 'p_hispanic_persons', 'p_nonhisp_black_persons');"
   ]
  },
  {
   "cell_type": "markdown",
   "id": "ebaedf8f-85ef-41ff-95eb-d04d481723be",
   "metadata": {},
   "source": [
    "Here lighter colors indicate a higher percentage of the tract's population is in a particular group."
   ]
  },
  {
   "cell_type": "code",
   "execution_count": null,
   "id": "37e6ffa2-7697-4034-9108-19f9b508913d",
   "metadata": {},
   "outputs": [],
   "source": [
    "import seaborn as sns\n",
    "\n",
    "vars = ['p_nonhisp_white_persons', 'p_hispanic_persons', 'p_nonhisp_black_persons']\n",
    "\n",
    "sns.set_theme(style='ticks')\n",
    "sns.pairplot(sd[vars]);"
   ]
  },
  {
   "cell_type": "markdown",
   "id": "170a2db8-edb6-4fe6-8a86-ae2310fd2353",
   "metadata": {},
   "source": [
    "## Integrating Road Networks for Environmental Justice Analysis"
   ]
  },
  {
   "cell_type": "markdown",
   "id": "f4cfbf3c-9c98-42c8-9c40-6b77bd5c16f5",
   "metadata": {},
   "source": [
    "### California Highway Network"
   ]
  },
  {
   "cell_type": "code",
   "execution_count": null,
   "id": "969e2b81-9656-4fa9-a538-f2bc7dc5d199",
   "metadata": {},
   "outputs": [],
   "source": [
    "from base import roads"
   ]
  },
  {
   "cell_type": "code",
   "execution_count": null,
   "id": "1cbb3110-5cc6-473a-a481-2b58f438a259",
   "metadata": {},
   "outputs": [],
   "source": [
    "roads.plot();"
   ]
  },
  {
   "cell_type": "markdown",
   "id": "123cedc6-62a0-400e-8721-ef982ee1d750",
   "metadata": {},
   "source": [
    "### Clipping to Select San Diego Components of State Network"
   ]
  },
  {
   "cell_type": "code",
   "execution_count": null,
   "id": "a3ee6c37-d998-4ed5-a6cf-da0ecb1f2858",
   "metadata": {},
   "outputs": [],
   "source": [
    "sd_county = sd.unary_union"
   ]
  },
  {
   "cell_type": "code",
   "execution_count": null,
   "id": "27544fa3-980a-420e-80cb-f68252b551e1",
   "metadata": {},
   "outputs": [],
   "source": [
    "sd_county"
   ]
  },
  {
   "cell_type": "code",
   "execution_count": null,
   "id": "791f680f-f7df-458b-bfe7-c867027bce1f",
   "metadata": {},
   "outputs": [],
   "source": [
    "sd_roads = geopandas.clip(roads, sd_county)"
   ]
  },
  {
   "cell_type": "code",
   "execution_count": null,
   "id": "5845b1bc-ac8d-4c69-ac76-e7d7d066d775",
   "metadata": {},
   "outputs": [],
   "source": [
    "sd_roads.plot();"
   ]
  },
  {
   "cell_type": "code",
   "execution_count": null,
   "id": "087fa9c8-67b9-4c4a-b78a-f36cdb672901",
   "metadata": {},
   "outputs": [],
   "source": [
    "sd_roads.explore()"
   ]
  },
  {
   "cell_type": "markdown",
   "id": "f9f0f5ae-168a-48e0-a781-5139834b35de",
   "metadata": {},
   "source": [
    "## Buffering: Defining Areas of Concern \n",
    "\n",
    "We will define a [*buffer*](https://geopandas.org/en/stable/docs/reference/api/geopandas.GeoSeries.buffer.html) that contains all the points within 1,000 feet of a freeway.\n"
   ]
  },
  {
   "cell_type": "code",
   "execution_count": null,
   "id": "5a3fe462-0ffb-412f-b9e0-11c53b6429f1",
   "metadata": {},
   "outputs": [],
   "source": [
    "b1000 = sd_roads.buffer(304.8) # units are in meters"
   ]
  },
  {
   "cell_type": "code",
   "execution_count": null,
   "id": "64d01f9c-73f5-4509-a238-d6ce49c0581c",
   "metadata": {},
   "outputs": [],
   "source": [
    "b1000.explore() # buffer segments will occlude one another in places"
   ]
  },
  {
   "cell_type": "code",
   "execution_count": null,
   "id": "dfb16f2b-981b-42a3-9106-2bfe12579c3d",
   "metadata": {},
   "outputs": [],
   "source": [
    "bdf = geopandas.GeoDataFrame(geometry=[b1000.unary_union])\n",
    "bdf.crs = sd.crs"
   ]
  },
  {
   "cell_type": "code",
   "execution_count": null,
   "id": "69fa3c32-a75f-49eb-ae92-20d2892a0020",
   "metadata": {},
   "outputs": [],
   "source": [
    "bdf.explore() # zoom in to see the buffer overlay on the network"
   ]
  },
  {
   "cell_type": "markdown",
   "id": "15bc4324-8a85-400f-a75e-a2b7e148d792",
   "metadata": {},
   "source": [
    "### Visual Analysis of Disparities\n",
    "Recall, that the Census data we examined above is reported for census tracts.\n",
    "\n",
    "We could visually compare the spatial distribution of the different groups relative to the freeway network:"
   ]
  },
  {
   "cell_type": "code",
   "execution_count": null,
   "id": "a431a3e5-7354-416b-a16d-a74cf1ee84d7",
   "metadata": {},
   "outputs": [],
   "source": [
    "base.choro3roads();"
   ]
  },
  {
   "cell_type": "markdown",
   "id": "096b203d-8b73-4721-8693-d904021c0686",
   "metadata": {},
   "source": [
    "We can also explore the hispanic population in more detail"
   ]
  },
  {
   "cell_type": "code",
   "execution_count": null,
   "id": "eee5e3c3-497c-446e-90b4-f312396d497c",
   "metadata": {},
   "outputs": [],
   "source": [
    "import folium\n",
    "opacity=0.3\n",
    "m = sd.explore(column='p_hispanic_persons',\n",
    "              \n",
    "              tooltip=['p_hispanic_persons'],\n",
    "              style_kwds={'fillOpacity':opacity},\n",
    "              cmap='viridis', scheme='quantiles',\n",
    "               k=5,\n",
    "              legend_kwds=dict(colorbar=False),\n",
    "               legend=True)\n",
    "bdf.explore(m=m,\n",
    "          color='blue', style_kwds={'fillOpacity':opacity}\n",
    "        \n",
    "         )\n",
    "               \n",
    "folium.TileLayer('Stamen Toner', control=True).add_to(m)  # use folium to add alternative tiles\n",
    "folium.LayerControl().add_to(m)  # use folium to add layer control\n",
    "\n",
    "m"
   ]
  },
  {
   "cell_type": "markdown",
   "id": "f646aa12-bc37-4c45-bd73-f9a0979e6f36",
   "metadata": {},
   "source": [
    "## Who Lives in the Buffer?\n",
    "\n",
    "Now that we have defined our area of concern as the highway buffer, we would like to explore whether there are\n",
    "differences in the socioeconomic composition of the populations who resided within the buffer versus elsewhere.\n",
    "\n",
    "That is, were people of color disproportionately residing in the buffer region?\n",
    "\n",
    "To answer this question we will compare the composition of the overall population  to that of the buffer.\n",
    "\n",
    "The overall composition from above is:"
   ]
  },
  {
   "cell_type": "code",
   "execution_count": null,
   "id": "ec063fd7-052a-42df-97c6-7bcd2acfe535",
   "metadata": {},
   "outputs": [],
   "source": [
    "base.county_composition"
   ]
  },
  {
   "cell_type": "markdown",
   "id": "fafab9ab-e0f2-4d8d-b711-5c715a6ece6e",
   "metadata": {},
   "source": [
    "Unfortunately, there is no official data published that reports the composition within the buffer."
   ]
  },
  {
   "cell_type": "markdown",
   "id": "bb56483a-fc7c-4b74-ac0c-a7fec523b3a8",
   "metadata": {},
   "source": [
    "## Areal Interpolation\n",
    "We can however, adopt [*areal interpolation*](https://github.com/pysal/tobler#pysal-tobler) to estimate the population inside the buffers."
   ]
  },
  {
   "cell_type": "code",
   "execution_count": null,
   "id": "a1056bd3-9071-4950-a9a2-533825458d25",
   "metadata": {},
   "outputs": [],
   "source": [
    "import tobler\n",
    "ae = tobler.area_weighted.area_interpolate"
   ]
  },
  {
   "cell_type": "code",
   "execution_count": null,
   "id": "ad43f250-f741-4c56-b116-5cb940ea5f8a",
   "metadata": {},
   "outputs": [],
   "source": [
    "extensive_variables = ['n_total_pop',\n",
    "                       'n_nonhisp_white_persons',\n",
    "                       'n_hispanic_persons',\n",
    "                       'n_nonhisp_black_persons'\n",
    "                       ]"
   ]
  },
  {
   "cell_type": "code",
   "execution_count": null,
   "id": "430efc31-adc0-4e37-a1cc-7c7be315da65",
   "metadata": {},
   "outputs": [],
   "source": [
    "estimates = ae(source_df=sd, target_df=bdf,\n",
    "               extensive_variables=extensive_variables,\n",
    "               allocate_total=False)"
   ]
  },
  {
   "cell_type": "code",
   "execution_count": null,
   "id": "7bc6bdca-7ca5-4c43-ae08-d1efc046e172",
   "metadata": {},
   "outputs": [],
   "source": [
    "estimates.head() # estimates of population in buffer"
   ]
  },
  {
   "cell_type": "code",
   "execution_count": null,
   "id": "f2076bed-71b4-4a11-bad1-b9cafea01d79",
   "metadata": {},
   "outputs": [],
   "source": [
    "county_totals"
   ]
  },
  {
   "cell_type": "code",
   "execution_count": null,
   "id": "dbbebc63-f3bc-45e7-8e5d-cd4c7ccd2225",
   "metadata": {},
   "outputs": [],
   "source": [
    "estimates.sum() / county_totals # percent of each group living in buffer"
   ]
  },
  {
   "cell_type": "markdown",
   "id": "94e010f0-715e-4c2f-a65a-563161e15d71",
   "metadata": {},
   "source": [
    "Overall, we see that 23.7 percent of San Diego's population lived within 1,000 feet of a freeway in 2010.\n",
    "\n",
    "Loosely speaking, if you randomly selected a person from San Diego county in 2010, the probability that individual lived within the buffer would 0.237.\n",
    "\n",
    "If we now condition on race/ethnicity, we see differences emerge. If you randomly selected a person who identified as nonhispanic white on the census, that probability drops to 0.222.\n",
    "\n",
    "The probability that a randomly selected person from the hispanic population in the county resided in the buffer is estimed at 0.274.\n",
    "\n",
    "And for individuals who identified as black, the probability of residing in the freeway buffer is 0.221.\n",
    "\n",
    "\n",
    "\n",
    "\n",
    "\n"
   ]
  },
  {
   "cell_type": "markdown",
   "id": "db494a86-0c5d-4f1c-800e-a61bd67800fc",
   "metadata": {},
   "source": [
    "Another way to look at this is to compare the population composition for the county as a whole to the population composition for the buffers."
   ]
  },
  {
   "cell_type": "code",
   "execution_count": null,
   "id": "8216bb65-7f6c-4299-bcd0-8989dbb8cde5",
   "metadata": {},
   "outputs": [],
   "source": [
    "base.county_composition"
   ]
  },
  {
   "cell_type": "code",
   "execution_count": null,
   "id": "5ebbd47a-481d-423e-bb8b-e3fa8f0aaab9",
   "metadata": {},
   "outputs": [],
   "source": [
    "estimates[extensive_variables]/estimates.n_total_pop[0]"
   ]
  },
  {
   "cell_type": "markdown",
   "id": "7ee73ef7-a530-44a3-b20c-0eaf621a8830",
   "metadata": {},
   "source": [
    "What we find is that the white population is underrepresented within the buffer (45.5 percent of the buffer population versus 48.5 percent of the county population),\n",
    "the hispanic population is overrepresented within the buffer (37 percent of the buffer population versus 32 percent of the county population), and the \n",
    "black population is slightly underrepresented within the buffer (4.5 percent of the buffer population versus 4.8 percent of the county poulation)."
   ]
  },
  {
   "cell_type": "markdown",
   "id": "a03c5e5e-7261-42ac-ba21-4aa989c8866f",
   "metadata": {},
   "source": [
    "## Summary"
   ]
  },
  {
   "cell_type": "markdown",
   "id": "1a9dc78e-f6a6-46ac-9885-7010efe411b7",
   "metadata": {},
   "source": [
    "This notebook introduces a number of spatial methods that are used in environmental disparities research. \n",
    "These focus on exploratory analysis which lets the student interact with the spatial patterns underlying the world they experience."
   ]
  }
 ],
 "metadata": {
  "kernelspec": {
   "display_name": "Python 3 (ipykernel)",
   "language": "python",
   "name": "python3"
  },
  "language_info": {
   "codemirror_mode": {
    "name": "ipython",
    "version": 3
   },
   "file_extension": ".py",
   "mimetype": "text/x-python",
   "name": "python",
   "nbconvert_exporter": "python",
   "pygments_lexer": "ipython3",
   "version": "3.9.13"
  }
 },
 "nbformat": 4,
 "nbformat_minor": 5
}
